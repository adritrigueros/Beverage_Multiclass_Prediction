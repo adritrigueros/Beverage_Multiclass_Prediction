{
  "nbformat": 4,
  "nbformat_minor": 0,
  "metadata": {
    "colab": {
      "provenance": []
    },
    "kernelspec": {
      "name": "python3",
      "display_name": "Python 3"
    },
    "language_info": {
      "name": "python"
    }
  },
  "cells": [
    {
      "cell_type": "markdown",
      "source": [
        "**Importing Necessary Libraries**"
      ],
      "metadata": {
        "id": "Lx2Etpocxv3l"
      }
    },
    {
      "cell_type": "code",
      "execution_count": 1,
      "metadata": {
        "id": "uRFmKsV3xu4_"
      },
      "outputs": [],
      "source": [
        "import numpy as np\n",
        "import pandas as pd\n",
        "from sklearn.preprocessing import StandardScaler\n",
        "from sklearn.model_selection import GridSearchCV\n",
        "from imblearn.over_sampling import SMOTE\n",
        "from imblearn.pipeline import Pipeline\n",
        "from sklearn.ensemble import RandomForestClassifier\n",
        "from sklearn.decomposition import PCA"
      ]
    },
    {
      "cell_type": "markdown",
      "source": [
        "**Importing dataset and examining it**"
      ],
      "metadata": {
        "id": "3PI7lg_3x_VV"
      }
    },
    {
      "cell_type": "code",
      "source": [
        "dataset = pd.read_csv(\"Beverage.csv\")\n",
        "pd.set_option('display.max_columns', None) # to make sure you can see all the columns in output window\n",
        "print(dataset.head())\n",
        "print(dataset.shape)\n",
        "print(dataset.info())\n",
        "print(dataset.describe())"
      ],
      "metadata": {
        "colab": {
          "base_uri": "https://localhost:8080/"
        },
        "id": "K0fdO_5EyA11",
        "outputId": "65c08d1d-11aa-4a4b-84d5-2bb3f2324750"
      },
      "execution_count": 2,
      "outputs": [
        {
          "output_type": "stream",
          "name": "stdout",
          "text": [
            "   fixed acidity  volatile acidity  citric acid  residual sugar  chlorides  \\\n",
            "0            7.0              0.27         0.36            20.7      0.045   \n",
            "1            6.3              0.30         0.34             1.6      0.049   \n",
            "2            8.1              0.28         0.40             6.9      0.050   \n",
            "3            7.2              0.23         0.32             8.5      0.058   \n",
            "4            7.2              0.23         0.32             8.5      0.058   \n",
            "\n",
            "   free sulfur dioxide  total sulfur dioxide  density    pH  sulphates  \\\n",
            "0                 45.0                 170.0   1.0010  3.00       0.45   \n",
            "1                 14.0                 132.0   0.9940  3.30       0.49   \n",
            "2                 30.0                  97.0   0.9951  3.26       0.44   \n",
            "3                 47.0                 186.0   0.9956  3.19       0.40   \n",
            "4                 47.0                 186.0   0.9956  3.19       0.40   \n",
            "\n",
            "   alcohol quality  \n",
            "0      8.8  Normal  \n",
            "1      9.5  Normal  \n",
            "2     10.1  Normal  \n",
            "3      9.9  Normal  \n",
            "4      9.9  Normal  \n",
            "(4898, 12)\n",
            "<class 'pandas.core.frame.DataFrame'>\n",
            "RangeIndex: 4898 entries, 0 to 4897\n",
            "Data columns (total 12 columns):\n",
            " #   Column                Non-Null Count  Dtype  \n",
            "---  ------                --------------  -----  \n",
            " 0   fixed acidity         4898 non-null   float64\n",
            " 1   volatile acidity      4898 non-null   float64\n",
            " 2   citric acid           4898 non-null   float64\n",
            " 3   residual sugar        4898 non-null   float64\n",
            " 4   chlorides             4898 non-null   float64\n",
            " 5   free sulfur dioxide   4898 non-null   float64\n",
            " 6   total sulfur dioxide  4898 non-null   float64\n",
            " 7   density               4898 non-null   float64\n",
            " 8   pH                    4898 non-null   float64\n",
            " 9   sulphates             4898 non-null   float64\n",
            " 10  alcohol               4898 non-null   float64\n",
            " 11  quality               4898 non-null   object \n",
            "dtypes: float64(11), object(1)\n",
            "memory usage: 459.3+ KB\n",
            "None\n",
            "       fixed acidity  volatile acidity  citric acid  residual sugar  \\\n",
            "count    4898.000000       4898.000000  4898.000000     4898.000000   \n",
            "mean        6.854788          0.278241     0.334192        6.391415   \n",
            "std         0.843868          0.100795     0.121020        5.072058   \n",
            "min         3.800000          0.080000     0.000000        0.600000   \n",
            "25%         6.300000          0.210000     0.270000        1.700000   \n",
            "50%         6.800000          0.260000     0.320000        5.200000   \n",
            "75%         7.300000          0.320000     0.390000        9.900000   \n",
            "max        14.200000          1.100000     1.660000       65.800000   \n",
            "\n",
            "         chlorides  free sulfur dioxide  total sulfur dioxide      density  \\\n",
            "count  4898.000000          4898.000000           4898.000000  4898.000000   \n",
            "mean      0.045772            35.308085            138.360657     0.994027   \n",
            "std       0.021848            17.007137             42.498065     0.002991   \n",
            "min       0.009000             2.000000              9.000000     0.987110   \n",
            "25%       0.036000            23.000000            108.000000     0.991723   \n",
            "50%       0.043000            34.000000            134.000000     0.993740   \n",
            "75%       0.050000            46.000000            167.000000     0.996100   \n",
            "max       0.346000           289.000000            440.000000     1.038980   \n",
            "\n",
            "                pH    sulphates      alcohol  \n",
            "count  4898.000000  4898.000000  4898.000000  \n",
            "mean      3.188267     0.489847    10.514267  \n",
            "std       0.151001     0.114126     1.230621  \n",
            "min       2.720000     0.220000     8.000000  \n",
            "25%       3.090000     0.410000     9.500000  \n",
            "50%       3.180000     0.470000    10.400000  \n",
            "75%       3.280000     0.550000    11.400000  \n",
            "max       3.820000     1.080000    14.200000  \n"
          ]
        }
      ]
    },
    {
      "cell_type": "markdown",
      "source": [
        "**Converting Categorical features into Numerical features**"
      ],
      "metadata": {
        "id": "z-CTVrtryOoy"
      }
    },
    {
      "cell_type": "code",
      "source": [
        "def converter(column):\n",
        "    if column == 'Excellent':\n",
        "        return 1\n",
        "    else:\n",
        "        return 0\n",
        "\n",
        "dataset['quality'] = dataset['quality'].apply(converter)"
      ],
      "metadata": {
        "id": "1J-HTJ6myO3H"
      },
      "execution_count": 3,
      "outputs": []
    },
    {
      "cell_type": "markdown",
      "source": [
        "**Dividing dataset into label and feature sets**"
      ],
      "metadata": {
        "id": "Q8tF9kWAyTnS"
      }
    },
    {
      "cell_type": "code",
      "source": [
        "X = dataset.drop('quality', axis = 1) # Features\n",
        "Y = dataset['quality'] # Labels\n",
        "print(type(X))\n",
        "print(type(Y))\n",
        "print(X.shape)\n",
        "print(Y.shape)"
      ],
      "metadata": {
        "colab": {
          "base_uri": "https://localhost:8080/"
        },
        "id": "kYAT8KmEyTwk",
        "outputId": "d0d1479b-892e-4cf3-ac5d-8b51cef73ff2"
      },
      "execution_count": 4,
      "outputs": [
        {
          "output_type": "stream",
          "name": "stdout",
          "text": [
            "<class 'pandas.core.frame.DataFrame'>\n",
            "<class 'pandas.core.series.Series'>\n",
            "(4898, 11)\n",
            "(4898,)\n"
          ]
        }
      ]
    },
    {
      "cell_type": "markdown",
      "source": [
        "**Normalizing numerical features so that each feature has mean 0 and variance 1**"
      ],
      "metadata": {
        "id": "dLOHgQjoyaB8"
      }
    },
    {
      "cell_type": "code",
      "source": [
        "feature_scaler = StandardScaler()\n",
        "X_scaled = feature_scaler.fit_transform(X)"
      ],
      "metadata": {
        "id": "h5llVvwhyc5y"
      },
      "execution_count": 5,
      "outputs": []
    },
    {
      "cell_type": "markdown",
      "source": [
        "**Implementing Random Forest Classifier**"
      ],
      "metadata": {
        "id": "oU1tJoIayhJ5"
      }
    },
    {
      "cell_type": "code",
      "source": [
        "# Tuning the random forest parameter 'n_estimators' and implementing cross-validation using Grid Search\n",
        "model = Pipeline([\n",
        "        ('balancing', SMOTE(random_state = 101)),\n",
        "        ('classification', RandomForestClassifier(criterion='entropy', max_features='auto', random_state=1) )\n",
        "    ])\n",
        "grid_param = {'classification__n_estimators': [100, 150, 200, 250, 300]}\n",
        "\n",
        "gd_sr = GridSearchCV(estimator=model, param_grid=grid_param, scoring='precision', cv=5)\n",
        "\n",
        "gd_sr.fit(X_scaled, Y)\n",
        "\n",
        "best_parameters = gd_sr.best_params_\n",
        "print(best_parameters)\n",
        "\n",
        "best_result = gd_sr.best_score_ # Mean cross-validated score of the best_estimator\n",
        "print(best_result)"
      ],
      "metadata": {
        "colab": {
          "base_uri": "https://localhost:8080/"
        },
        "id": "aJLCodWxyhTB",
        "outputId": "a6c0320e-f312-4096-c941-604cdd2bd8d9"
      },
      "execution_count": 6,
      "outputs": [
        {
          "output_type": "stream",
          "name": "stdout",
          "text": [
            "{'classification__n_estimators': 100}\n",
            "0.5405981710772059\n"
          ]
        }
      ]
    },
    {
      "cell_type": "code",
      "source": [
        "# Building random forest using the tuned parameter\n",
        "rfc = RandomForestClassifier(n_estimators=100, criterion='entropy', max_features='auto', random_state=1)\n",
        "rfc.fit(X_scaled,Y)\n",
        "featimp = pd.Series(rfc.feature_importances_, index=list(X)).sort_values(ascending=False)\n",
        "print(featimp)"
      ],
      "metadata": {
        "colab": {
          "base_uri": "https://localhost:8080/"
        },
        "id": "OZrKwFiJyw0E",
        "outputId": "4b6ec7a3-51f6-40f3-b4df-66438b73b7ac"
      },
      "execution_count": 7,
      "outputs": [
        {
          "output_type": "stream",
          "name": "stdout",
          "text": [
            "alcohol                 0.145159\n",
            "density                 0.122280\n",
            "volatile acidity        0.090512\n",
            "residual sugar          0.088370\n",
            "chlorides               0.087347\n",
            "pH                      0.084545\n",
            "free sulfur dioxide     0.084179\n",
            "total sulfur dioxide    0.084078\n",
            "citric acid             0.075975\n",
            "sulphates               0.072697\n",
            "fixed acidity           0.064858\n",
            "dtype: float64\n"
          ]
        }
      ]
    },
    {
      "cell_type": "code",
      "source": [
        "# Selecting features with higher sifnificance and redefining feature set\n",
        "X_ = dataset[['alcohol', 'density', 'volatile acidity']]\n",
        "\n",
        "feature_scaler = StandardScaler()\n",
        "X_scaled_ = feature_scaler.fit_transform(X_)"
      ],
      "metadata": {
        "id": "gNskXMZny0hI"
      },
      "execution_count": 8,
      "outputs": []
    },
    {
      "cell_type": "code",
      "source": [
        "#Tuning the random forest parameter 'n_estimators' and implementing cross-validation using Grid Search\n",
        "model = Pipeline([\n",
        "        ('balancing', SMOTE(random_state = 101)),\n",
        "        ('classification', RandomForestClassifier(criterion='entropy', max_features='auto', random_state=1) )\n",
        "    ])\n",
        "grid_param = {'classification__n_estimators': [10, 20, 30, 40, 50]}\n",
        "\n",
        "gd_sr = GridSearchCV(estimator=model, param_grid=grid_param, scoring='precision', cv=5)\n",
        "\n",
        "gd_sr.fit(X_scaled_, Y)\n",
        "\n",
        "best_parameters = gd_sr.best_params_\n",
        "print(best_parameters)\n",
        "\n",
        "best_result = gd_sr.best_score_ # Mean cross-validated score of the best_estimator\n",
        "print(best_result)\n"
      ],
      "metadata": {
        "colab": {
          "base_uri": "https://localhost:8080/"
        },
        "id": "hXEGekwAy3U7",
        "outputId": "44545f8f-fd8a-48c0-d842-06d517ef0c88"
      },
      "execution_count": 9,
      "outputs": [
        {
          "output_type": "stream",
          "name": "stdout",
          "text": [
            "{'classification__n_estimators': 40}\n",
            "0.4236757242292713\n"
          ]
        }
      ]
    },
    {
      "cell_type": "markdown",
      "source": [
        "**Implementing PCA to create principal components**"
      ],
      "metadata": {
        "id": "0uuMJ4g4zBxK"
      }
    },
    {
      "cell_type": "code",
      "source": [
        "pca = PCA(n_components = 6)\n",
        "pca.fit(X_scaled)\n",
        "x_pca = pca.transform(X_scaled)\n",
        "print(\"Variance explained by each of the n_components: \",pca.explained_variance_ratio_)\n",
        "print(\"Total variance explained by the n_components: \",sum(pca.explained_variance_ratio_))"
      ],
      "metadata": {
        "colab": {
          "base_uri": "https://localhost:8080/"
        },
        "id": "1nVG9jX8zFhN",
        "outputId": "086099a6-b100-4e06-b19c-fc84ea53eb61"
      },
      "execution_count": 10,
      "outputs": [
        {
          "output_type": "stream",
          "name": "stdout",
          "text": [
            "Variance explained by each of the n_components:  [0.29293217 0.14320363 0.11106103 0.09259294 0.08848496 0.08534014]\n",
            "Total variance explained by the n_components:  0.813614873394286\n"
          ]
        }
      ]
    },
    {
      "cell_type": "markdown",
      "source": [
        "**Creating Random Forest Classifier using principal components**"
      ],
      "metadata": {
        "id": "3D5sd5WizIfw"
      }
    },
    {
      "cell_type": "code",
      "source": [
        "# Tuning the random forest parameter 'n_estimators' and implementing cross-validation using Grid Search\n",
        "model = Pipeline([\n",
        "        ('balancing', SMOTE(random_state = 101)),\n",
        "        ('classification', RandomForestClassifier(criterion='entropy', max_features='auto', random_state=1) )\n",
        "    ])\n",
        "grid_param = {'classification__n_estimators': [100, 150, 200, 250, 300]}\n",
        "\n",
        "gd_sr = GridSearchCV(estimator=model, param_grid=grid_param, scoring='precision', cv=5)\n",
        "\n",
        "gd_sr.fit(x_pca, Y)\n",
        "\n",
        "best_parameters = gd_sr.best_params_\n",
        "print(best_parameters)\n",
        "\n",
        "best_result = gd_sr.best_score_ # Mean cross-validated score of the best_estimator\n",
        "print(best_result)\n"
      ],
      "metadata": {
        "colab": {
          "base_uri": "https://localhost:8080/"
        },
        "id": "0Q3MMNu3zMmb",
        "outputId": "b1210d7d-985c-46d1-e372-fd72d3338219"
      },
      "execution_count": 11,
      "outputs": [
        {
          "output_type": "stream",
          "name": "stdout",
          "text": [
            "{'classification__n_estimators': 150}\n",
            "0.4808906922331871\n"
          ]
        }
      ]
    }
  ]
}